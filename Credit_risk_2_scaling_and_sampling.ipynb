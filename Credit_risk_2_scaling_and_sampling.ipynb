{
 "cells": [
  {
   "cell_type": "markdown",
   "id": "88bc7c74-14e2-496d-9bfb-47db647354c4",
   "metadata": {
    "tags": []
   },
   "source": [
    "# Methodology (Deliverable 1 & 2):\n",
    "**This notebook executes Pre-Processing using standarization and scaling techniques, each assessed using a Logistics Regression Classifier.**\n",
    "\n",
    "* Split data into feature matrix (X) and target (y)\n",
    "* Note the extent of imbalance among values in the target variable (y)\n",
    "* Convert columns with dtype 'object' to numeric (using pd.get_dummies())\n",
    "* Split data into a training and testing, setting aside 25 % of the data for testing (using train-test-split)\n",
    "\n",
    "* Establish a baseline performance using using logistics regression classifier to compare the performance of all resampling techniques\n",
    "\n",
    "* Feature scaling: standardize the features matrix (X) to better expose the underlying data patterns to the ML algorithms. The following techniques will be explored:\n",
    "    - standardization using Standard Scaler\n",
    "    \n",
    "    - ~~standardiztion using RobustScaler  ~~\n",
    "    \n",
    "* Assess Performance: assess performance of each scaling technique in classsifying \"high risk\" or \"low risk\" using using logistics regression classifier (the baseline) using balanced accuracy score, confusion matrix and balanced classification report \n",
    "* Record findings in README.md file to include images of confusion matrix and balanced classification report"
   ]
  },
  {
   "cell_type": "markdown",
   "id": "65dab7a3-a2ad-4b93-8054-590f79dbce62",
   "metadata": {
    "tags": []
   },
   "source": [
    "## Preprocessing - Scaling the feature matrix"
   ]
  },
  {
   "cell_type": "markdown",
   "id": "9d037903-3377-4b26-999b-286ef5f1d064",
   "metadata": {},
   "source": [
    "### Import Libraries\n",
    "Note a new python 3.7 evnironment called mlenv was created for this analysis"
   ]
  },
  {
   "cell_type": "code",
   "execution_count": 1,
   "id": "d9ac7113-22af-49e4-af2f-963207c7792e",
   "metadata": {},
   "outputs": [],
   "source": [
    "import numpy as np\n",
    "import pandas as pd\n",
    "from pathlib import Path\n",
    "from collections import Counter\n",
    "\n",
    "import matplotlib.pyplot as plt\n",
    "import seaborn as sns\n",
    "import dataframe_image as dfi"
   ]
  },
  {
   "cell_type": "code",
   "execution_count": 2,
   "id": "7d200ff9-3087-4751-abef-2c46ca8f2d9b",
   "metadata": {},
   "outputs": [],
   "source": [
    "# sklearn dependencies\n",
    "from sklearn.model_selection import train_test_split\n",
    "from sklearn.preprocessing import StandardScaler\n",
    "from sklearn.preprocessing import RobustScaler\n",
    "from sklearn.linear_model import LogisticRegression\n",
    "from sklearn.metrics import confusion_matrix, classification_report\n",
    "from sklearn.metrics import balanced_accuracy_score\n",
    "from sklearn.metrics import ConfusionMatrixDisplay"
   ]
  },
  {
   "cell_type": "code",
   "execution_count": 3,
   "id": "4e797872-cfb0-4b4c-80c5-6b74d802e821",
   "metadata": {},
   "outputs": [],
   "source": [
    "# imbalanced-learn dependencies\n",
    "from imblearn.metrics import classification_report_imbalanced\n",
    "from imblearn.over_sampling import RandomOverSampler\n",
    "from imblearn.over_sampling import SMOTE\n",
    "from imblearn.under_sampling import ClusterCentroids\n",
    "from imblearn.under_sampling import RandomUnderSampler\n",
    "from imblearn.combine import SMOTEENN"
   ]
  },
  {
   "cell_type": "markdown",
   "id": "55a095f2-67ba-487b-aea4-af2a8b2ae2e6",
   "metadata": {
    "tags": []
   },
   "source": [
    "### Create a function to save an imbalanced classification report as a dataframe"
   ]
  },
  {
   "cell_type": "code",
   "execution_count": 4,
   "id": "545bcf6f-5173-4ac0-bc14-5f510c34c494",
   "metadata": {},
   "outputs": [],
   "source": [
    "# created to save imablanced classification reports as a dataframe which can then be saved as an image and used in the report (readme.md)\n",
    "def classification_report_to_df(report):\n",
    "    \"\"\" \n",
    "    save imbalanced classification report (from imbalance learn) into a dataframe  \n",
    "    see https://www.codegrepper.com/code-examples/c/save+classification+report+of+sklearn\n",
    "    \"\"\"\n",
    "    report_data = []\n",
    "    lines = report.split('\\n')\n",
    "    for line in lines[2:-3]:\n",
    "        row = {}\n",
    "        row_data = line.split('      ')\n",
    "        row['class'] = row_data[0]\n",
    "        row['precision'] = float(row_data[1])\n",
    "        row['recall'] = float(row_data[2])\n",
    "        row['specificity'] = float(row_data[3])\n",
    "        row['f1 score'] = float(row_data[4])\n",
    "        report_data.append(row)\n",
    "    dataframe = pd.DataFrame.from_dict(report_data)\n",
    "    return dataframe\n",
    "    "
   ]
  },
  {
   "cell_type": "markdown",
   "id": "f4474ba3-1c90-4f67-a5fe-49525a581d4b",
   "metadata": {},
   "source": [
    "Note: below is example code used to convert classification report to dataframe and save using dataframe_image"
   ]
  },
  {
   "cell_type": "code",
   "execution_count": 5,
   "id": "7951c910-43c0-4f9e-9e0b-e792ffaf9038",
   "metadata": {},
   "outputs": [],
   "source": [
    "# code (lines 3 and 6) to copy and use to save imbalanced classification report\n",
    "# this assumes the report was already preformed and saved as \"report\"\n",
    "# test_classification_report_df = classification_report_to_df(report)\n",
    "\n",
    "# save df as a png using dataframe to image library (imported in dependencies)\n",
    "# dfi.export(test_classification_report_df, './Images/test_classification_report_df.png')"
   ]
  },
  {
   "cell_type": "code",
   "execution_count": null,
   "id": "c363cb5d-1497-439a-9a2a-74b8e9a4f9e6",
   "metadata": {},
   "outputs": [],
   "source": []
  },
  {
   "cell_type": "code",
   "execution_count": 6,
   "id": "b226264c-ecfa-41bc-8788-09fe63502096",
   "metadata": {},
   "outputs": [
    {
     "data": {
      "text/html": [
       "<div>\n",
       "<style scoped>\n",
       "    .dataframe tbody tr th:only-of-type {\n",
       "        vertical-align: middle;\n",
       "    }\n",
       "\n",
       "    .dataframe tbody tr th {\n",
       "        vertical-align: top;\n",
       "    }\n",
       "\n",
       "    .dataframe thead th {\n",
       "        text-align: right;\n",
       "    }\n",
       "</style>\n",
       "<table border=\"1\" class=\"dataframe\">\n",
       "  <thead>\n",
       "    <tr style=\"text-align: right;\">\n",
       "      <th></th>\n",
       "      <th>loan_amnt</th>\n",
       "      <th>int_rate</th>\n",
       "      <th>installment</th>\n",
       "      <th>home_ownership</th>\n",
       "      <th>annual_inc</th>\n",
       "      <th>verification_status</th>\n",
       "      <th>issue_d</th>\n",
       "      <th>loan_status</th>\n",
       "      <th>dti</th>\n",
       "      <th>delinq_2yrs</th>\n",
       "      <th>...</th>\n",
       "      <th>num_sats</th>\n",
       "      <th>num_tl_90g_dpd_24m</th>\n",
       "      <th>num_tl_op_past_12m</th>\n",
       "      <th>pct_tl_nvr_dlq</th>\n",
       "      <th>percent_bc_gt_75</th>\n",
       "      <th>pub_rec_bankruptcies</th>\n",
       "      <th>tot_hi_cred_lim</th>\n",
       "      <th>total_bal_ex_mort</th>\n",
       "      <th>total_bc_limit</th>\n",
       "      <th>total_il_high_credit_limit</th>\n",
       "    </tr>\n",
       "  </thead>\n",
       "  <tbody>\n",
       "    <tr>\n",
       "      <th>0</th>\n",
       "      <td>20000.0</td>\n",
       "      <td>0.2250</td>\n",
       "      <td>769.00</td>\n",
       "      <td>RENT</td>\n",
       "      <td>75000.0</td>\n",
       "      <td>Not Verified</td>\n",
       "      <td>Mar-2019</td>\n",
       "      <td>low_risk</td>\n",
       "      <td>24.37</td>\n",
       "      <td>0.0</td>\n",
       "      <td>...</td>\n",
       "      <td>8.0</td>\n",
       "      <td>0.0</td>\n",
       "      <td>1.0</td>\n",
       "      <td>100.0</td>\n",
       "      <td>100.0</td>\n",
       "      <td>0.0</td>\n",
       "      <td>77797.0</td>\n",
       "      <td>55014.0</td>\n",
       "      <td>47000.0</td>\n",
       "      <td>30797.0</td>\n",
       "    </tr>\n",
       "    <tr>\n",
       "      <th>1</th>\n",
       "      <td>10500.0</td>\n",
       "      <td>0.1719</td>\n",
       "      <td>375.35</td>\n",
       "      <td>RENT</td>\n",
       "      <td>66000.0</td>\n",
       "      <td>Source Verified</td>\n",
       "      <td>Mar-2019</td>\n",
       "      <td>low_risk</td>\n",
       "      <td>27.24</td>\n",
       "      <td>0.0</td>\n",
       "      <td>...</td>\n",
       "      <td>8.0</td>\n",
       "      <td>0.0</td>\n",
       "      <td>3.0</td>\n",
       "      <td>85.7</td>\n",
       "      <td>100.0</td>\n",
       "      <td>0.0</td>\n",
       "      <td>65687.0</td>\n",
       "      <td>38199.0</td>\n",
       "      <td>2000.0</td>\n",
       "      <td>61987.0</td>\n",
       "    </tr>\n",
       "    <tr>\n",
       "      <th>2</th>\n",
       "      <td>25000.0</td>\n",
       "      <td>0.2000</td>\n",
       "      <td>929.09</td>\n",
       "      <td>MORTGAGE</td>\n",
       "      <td>105000.0</td>\n",
       "      <td>Verified</td>\n",
       "      <td>Mar-2019</td>\n",
       "      <td>low_risk</td>\n",
       "      <td>20.23</td>\n",
       "      <td>0.0</td>\n",
       "      <td>...</td>\n",
       "      <td>17.0</td>\n",
       "      <td>0.0</td>\n",
       "      <td>6.0</td>\n",
       "      <td>91.2</td>\n",
       "      <td>50.0</td>\n",
       "      <td>1.0</td>\n",
       "      <td>271427.0</td>\n",
       "      <td>60641.0</td>\n",
       "      <td>41200.0</td>\n",
       "      <td>49197.0</td>\n",
       "    </tr>\n",
       "    <tr>\n",
       "      <th>3</th>\n",
       "      <td>20000.0</td>\n",
       "      <td>0.2000</td>\n",
       "      <td>529.88</td>\n",
       "      <td>MORTGAGE</td>\n",
       "      <td>56000.0</td>\n",
       "      <td>Verified</td>\n",
       "      <td>Mar-2019</td>\n",
       "      <td>low_risk</td>\n",
       "      <td>24.26</td>\n",
       "      <td>0.0</td>\n",
       "      <td>...</td>\n",
       "      <td>8.0</td>\n",
       "      <td>0.0</td>\n",
       "      <td>4.0</td>\n",
       "      <td>66.7</td>\n",
       "      <td>50.0</td>\n",
       "      <td>0.0</td>\n",
       "      <td>60644.0</td>\n",
       "      <td>45684.0</td>\n",
       "      <td>7500.0</td>\n",
       "      <td>43144.0</td>\n",
       "    </tr>\n",
       "    <tr>\n",
       "      <th>4</th>\n",
       "      <td>10000.0</td>\n",
       "      <td>0.1640</td>\n",
       "      <td>353.55</td>\n",
       "      <td>RENT</td>\n",
       "      <td>92000.0</td>\n",
       "      <td>Verified</td>\n",
       "      <td>Mar-2019</td>\n",
       "      <td>low_risk</td>\n",
       "      <td>31.44</td>\n",
       "      <td>0.0</td>\n",
       "      <td>...</td>\n",
       "      <td>10.0</td>\n",
       "      <td>0.0</td>\n",
       "      <td>1.0</td>\n",
       "      <td>100.0</td>\n",
       "      <td>50.0</td>\n",
       "      <td>1.0</td>\n",
       "      <td>99506.0</td>\n",
       "      <td>68784.0</td>\n",
       "      <td>19700.0</td>\n",
       "      <td>76506.0</td>\n",
       "    </tr>\n",
       "  </tbody>\n",
       "</table>\n",
       "<p>5 rows × 74 columns</p>\n",
       "</div>"
      ],
      "text/plain": [
       "   loan_amnt  int_rate  installment home_ownership  annual_inc  \\\n",
       "0    20000.0    0.2250       769.00           RENT     75000.0   \n",
       "1    10500.0    0.1719       375.35           RENT     66000.0   \n",
       "2    25000.0    0.2000       929.09       MORTGAGE    105000.0   \n",
       "3    20000.0    0.2000       529.88       MORTGAGE     56000.0   \n",
       "4    10000.0    0.1640       353.55           RENT     92000.0   \n",
       "\n",
       "  verification_status   issue_d loan_status    dti  delinq_2yrs  ...  \\\n",
       "0        Not Verified  Mar-2019    low_risk  24.37          0.0  ...   \n",
       "1     Source Verified  Mar-2019    low_risk  27.24          0.0  ...   \n",
       "2            Verified  Mar-2019    low_risk  20.23          0.0  ...   \n",
       "3            Verified  Mar-2019    low_risk  24.26          0.0  ...   \n",
       "4            Verified  Mar-2019    low_risk  31.44          0.0  ...   \n",
       "\n",
       "   num_sats  num_tl_90g_dpd_24m  num_tl_op_past_12m  pct_tl_nvr_dlq  \\\n",
       "0       8.0                 0.0                 1.0           100.0   \n",
       "1       8.0                 0.0                 3.0            85.7   \n",
       "2      17.0                 0.0                 6.0            91.2   \n",
       "3       8.0                 0.0                 4.0            66.7   \n",
       "4      10.0                 0.0                 1.0           100.0   \n",
       "\n",
       "   percent_bc_gt_75 pub_rec_bankruptcies  tot_hi_cred_lim  total_bal_ex_mort  \\\n",
       "0             100.0                  0.0          77797.0            55014.0   \n",
       "1             100.0                  0.0          65687.0            38199.0   \n",
       "2              50.0                  1.0         271427.0            60641.0   \n",
       "3              50.0                  0.0          60644.0            45684.0   \n",
       "4              50.0                  1.0          99506.0            68784.0   \n",
       "\n",
       "   total_bc_limit  total_il_high_credit_limit  \n",
       "0         47000.0                     30797.0  \n",
       "1          2000.0                     61987.0  \n",
       "2         41200.0                     49197.0  \n",
       "3          7500.0                     43144.0  \n",
       "4         19700.0                     76506.0  \n",
       "\n",
       "[5 rows x 74 columns]"
      ]
     },
     "execution_count": 6,
     "metadata": {},
     "output_type": "execute_result"
    }
   ],
   "source": [
    "# read in the csv file\n",
    "df = pd.read_csv(\"./Data/clean_loans.csv\")\n",
    "df.head()"
   ]
  },
  {
   "cell_type": "code",
   "execution_count": 7,
   "id": "f05ecd9b-0414-4043-b3a2-e5882486b883",
   "metadata": {},
   "outputs": [
    {
     "data": {
      "text/plain": [
       "(90445, 74)"
      ]
     },
     "execution_count": 7,
     "metadata": {},
     "output_type": "execute_result"
    }
   ],
   "source": [
    "# examine the shape\n",
    "df.shape"
   ]
  },
  {
   "cell_type": "markdown",
   "id": "88b4d90d-ecf7-4af1-9c29-d4487670eb12",
   "metadata": {},
   "source": [
    "### Split data into feature matrix (X) and target (y)"
   ]
  },
  {
   "cell_type": "code",
   "execution_count": 8,
   "id": "59132084-6f5e-40e5-811e-316f0bbe4972",
   "metadata": {},
   "outputs": [
    {
     "data": {
      "text/plain": [
       "(90445, 73)"
      ]
     },
     "execution_count": 8,
     "metadata": {},
     "output_type": "execute_result"
    }
   ],
   "source": [
    "# Create our features\n",
    "X = df.drop(columns='loan_status')\n",
    "X.shape"
   ]
  },
  {
   "cell_type": "code",
   "execution_count": 9,
   "id": "4c745c96-203f-4e26-a007-7b59286081fe",
   "metadata": {},
   "outputs": [
    {
     "data": {
      "text/plain": [
       "(90445,)"
      ]
     },
     "execution_count": 9,
     "metadata": {},
     "output_type": "execute_result"
    }
   ],
   "source": [
    "# Create our target\n",
    "y = df['loan_status']\n",
    "y.shape"
   ]
  },
  {
   "cell_type": "markdown",
   "id": "3814fba2-20be-44d4-952f-2d8204cda9c4",
   "metadata": {},
   "source": [
    "### Note the extent of imbalance among values in the target variable (y)"
   ]
  },
  {
   "cell_type": "code",
   "execution_count": 10,
   "id": "71f8b216-b1d7-43b7-aabf-275336d3799b",
   "metadata": {},
   "outputs": [],
   "source": [
    "# examine y for imbalance\n",
    "y_value_counts = y.value_counts()"
   ]
  },
  {
   "cell_type": "code",
   "execution_count": 11,
   "id": "394487e3-d7e0-44fb-901e-f304b249ccf2",
   "metadata": {},
   "outputs": [
    {
     "name": "stdout",
     "output_type": "stream",
     "text": [
      "high_risk loans represent only 0.53% (about a half percent) of the loans in the dataset\n"
     ]
    }
   ],
   "source": [
    "# There are very few instances of high risk loans to train any model on -- this is our imballanced problem\n",
    "print(f\"high_risk loans represent only {round(y_value_counts[1] / y_value_counts[0] * 100, 2)}% (about a half percent) of the loans in the dataset\")"
   ]
  },
  {
   "cell_type": "markdown",
   "id": "61eeb89c-de72-49b2-91e9-915765a4da4c",
   "metadata": {},
   "source": [
    "### Pre-processing convert columns with dtype 'object' to numeric\n",
    "##### Note: an explaination of how many columns will be added by get_dummies is added for better understanding of the get_dummies process (optional)"
   ]
  },
  {
   "cell_type": "code",
   "execution_count": null,
   "id": "7008b7e4-75b7-4b32-ab23-5b56daa2fa7f",
   "metadata": {},
   "outputs": [],
   "source": [
    "# what are our categorical value columns\n",
    "columns_obj = df.select_dtypes(include='object').columns\n",
    "print(len(columns_obj))"
   ]
  },
  {
   "cell_type": "code",
   "execution_count": null,
   "id": "50f0f81d-e655-43ce-a131-9bb7cb69a805",
   "metadata": {},
   "outputs": [],
   "source": [
    "# get_dummies method in pandas\n",
    "columns_obj"
   ]
  },
  {
   "cell_type": "code",
   "execution_count": null,
   "id": "50267d2e-0ba1-4a8b-ac9c-9d4801c3c7e0",
   "metadata": {},
   "outputs": [],
   "source": [
    "# examine a single column's value_counts (home_ownership)\n",
    "df['home_ownership'].value_counts()"
   ]
  },
  {
   "cell_type": "code",
   "execution_count": null,
   "id": "fb8731e4-dba8-4531-b4e8-de5f118b3409",
   "metadata": {},
   "outputs": [],
   "source": [
    "# examine all the columns and each columns value_counts\n",
    "for column in df[columns_obj]:\n",
    "    print(column, \"\\n\", df[column].value_counts())\n",
    "    print(\"-----------------------------------\")"
   ]
  },
  {
   "cell_type": "code",
   "execution_count": null,
   "id": "8a8ff3ea-f55f-43ae-8517-a9f0414a11ea",
   "metadata": {},
   "outputs": [],
   "source": [
    "# that is 18 values in seven columns therefore get_dummies\n",
    "# will add 9 columns and remove 7 columns (18 columns added and the original 7 columns will be removed) for a change in shape by 11 columns\n",
    "df.shape"
   ]
  },
  {
   "cell_type": "code",
   "execution_count": null,
   "id": "f1a9417b-8932-46db-927c-c7b7ea629127",
   "metadata": {},
   "outputs": [],
   "source": [
    "# Confirm shape of y\n",
    "y.shape"
   ]
  },
  {
   "cell_type": "markdown",
   "id": "fdae13d1-1cb3-46c3-acb0-62bcc3506591",
   "metadata": {
    "tags": []
   },
   "source": [
    "## save y as a csv file for use in ensemble modeling"
   ]
  },
  {
   "cell_type": "code",
   "execution_count": null,
   "id": "a31e3590-a169-4493-b7db-11ffd134af88",
   "metadata": {},
   "outputs": [],
   "source": [
    "# save y as a csv for use in ensemble modeling\n",
    "y.to_csv(\"./Data/y.csv\",index=False)"
   ]
  },
  {
   "cell_type": "markdown",
   "id": "ddf976f6-7a8b-4ba3-b33a-107713f5842a",
   "metadata": {},
   "source": [
    "### Use get_dummies on X (feature matrix)"
   ]
  },
  {
   "cell_type": "code",
   "execution_count": null,
   "id": "164b9fa1-0fda-4c51-a60e-776f0967c854",
   "metadata": {},
   "outputs": [],
   "source": [
    "# use get_dummies to transform object dtypes into int \n",
    "X_encoded_dummies = pd.get_dummies(X)\n",
    "X_encoded_dummies.shape"
   ]
  },
  {
   "cell_type": "code",
   "execution_count": null,
   "id": "c575d544-2d55-4d77-8841-e0045ffe84d6",
   "metadata": {},
   "outputs": [],
   "source": [
    "# check that all columns are now numeric\n",
    "X_encoded_dummies.info()"
   ]
  },
  {
   "cell_type": "code",
   "execution_count": null,
   "id": "ba9f8a69-351d-4f5d-9872-0ce3ca95ded0",
   "metadata": {},
   "outputs": [],
   "source": [
    "# all our columns in our features matrix (X) are numeric\n",
    "# we can examine the differences in feature values using describe\n",
    "X_encoded_dummies.describe()"
   ]
  },
  {
   "cell_type": "markdown",
   "id": "4e8ad3a1-f4aa-4887-9e0f-44c6744b7de8",
   "metadata": {},
   "source": [
    "## save X_encoded_dummies as a csv file for use in ensemble modeling"
   ]
  },
  {
   "cell_type": "code",
   "execution_count": null,
   "id": "5fba58ec-8c03-4079-8265-d88ffbd62b1e",
   "metadata": {},
   "outputs": [],
   "source": [
    "# save X_encoded_dummies as a csv file using to_csv()\n",
    "\n",
    "# df.to_csv(index=False)\n",
    "X_encoded_dummies.to_csv(\"./Data/X_encoded_dummies.csv\",index=False)"
   ]
  },
  {
   "cell_type": "markdown",
   "id": "f595fc10-9104-4360-b5d2-9de6c99e78ba",
   "metadata": {
    "jp-MarkdownHeadingCollapsed": true,
    "tags": []
   },
   "source": [
    "## Establish a Baseline for model performance using LogisticRegress"
   ]
  },
  {
   "cell_type": "markdown",
   "id": "c5963e8f-cafe-4066-aecf-f7749a6023e5",
   "metadata": {},
   "source": [
    "\n",
    "### StandarScaler: Transform the feature matrix using standard scaler \n",
    "Note: The Logistic Regression Model failed to converge after 1000 iterations without scaling. Use StandardScaler to account fo the difference among scales in the feature matrix\n",
    "Note: Many machine learning algorithms perform better or converge faster when features are on a relatively similar scale and/or close to normally distributed. Examples of such algorithm families include: linear and logistic regression."
   ]
  },
  {
   "cell_type": "code",
   "execution_count": null,
   "id": "31585178-0ea2-49d2-946d-adfd0cec499b",
   "metadata": {},
   "outputs": [],
   "source": [
    "# scale the X_encoded feature matrix\n",
    "data_scaler = StandardScaler()"
   ]
  },
  {
   "cell_type": "code",
   "execution_count": null,
   "id": "8d056551-1caa-42f7-b12b-5cab151bcc79",
   "metadata": {},
   "outputs": [],
   "source": [
    "# fit and transform our X_encoded\n",
    "X_encoded_std_scaled = data_scaler.fit_transform(X_encoded_dummies)\n",
    "\n",
    "# examine the first row of the scaled feature matrix (note range of values are \"close\")\n",
    "X_encoded_std_scaled[:1]"
   ]
  },
  {
   "cell_type": "markdown",
   "id": "8eeb0999-661e-4772-b19f-d5bbd34db9d2",
   "metadata": {},
   "source": [
    "### StandarScaler: Split the Data into Training and Testing"
   ]
  },
  {
   "cell_type": "code",
   "execution_count": null,
   "id": "5cdc18ee-1044-4296-8d8c-6aee181d7b06",
   "metadata": {},
   "outputs": [],
   "source": [
    "# from sklearn.model_selection import train_test_split \n",
    "# note: y is not scaled but the extension _ss is added to help me remember to use the scaled feature matrix values\n",
    "X_train_ss, X_test_ss, y_train_ss, y_test_ss = train_test_split(X_encoded_std_scaled, y, random_state = 1)"
   ]
  },
  {
   "cell_type": "code",
   "execution_count": null,
   "id": "a8a0b7cf-cf36-4232-bcbd-ebd2fbef5296",
   "metadata": {},
   "outputs": [],
   "source": [
    "# examine the \"balance\" between high_risk and low_risk loans\n",
    "value_counts = y_train_ss.value_counts()\n",
    "value_counts"
   ]
  },
  {
   "cell_type": "code",
   "execution_count": null,
   "id": "dc57af49-c0f1-4561-b622-452f116af392",
   "metadata": {},
   "outputs": [],
   "source": [
    "# There are very few instances of high risk loans to train any model on -- this is our imballanced problem\n",
    "print(f\"high_risk loans represent only {round((value_counts[1] / value_counts[0]) * 100, 2)}% of the loans in the dataset\")\n"
   ]
  },
  {
   "cell_type": "markdown",
   "id": "fc54fad6-1e18-4383-b3f4-f8f5b8154a49",
   "metadata": {},
   "source": [
    "### StandardScaler: Assess with LogisticRegression\n",
    "#### Model, fit, predict"
   ]
  },
  {
   "cell_type": "markdown",
   "id": "77027087-a66a-4689-a887-d6689f8324eb",
   "metadata": {},
   "source": [
    "#### get a baseline of performance usUse the LogisticRegression classifier to make predictions and evaluate the model’s performance.\n",
    "* Calculate the accuracy score of the model.\n",
    "* Generate a confusion matrix.\n",
    "* Print out the imbalanced classification report for logistics regression\n"
   ]
  },
  {
   "cell_type": "code",
   "execution_count": null,
   "id": "3cd292c1-1ac7-4455-8b34-d13c1600766c",
   "metadata": {},
   "outputs": [],
   "source": [
    "# Instantiate a Logistic Regression Model\n",
    "# increased max_iter=1000 due to inability of 'lbfgs' solver to converge\n",
    "LR_clf_baseline = LogisticRegression(solver='lbfgs', random_state=1, max_iter=1000)\n",
    "LR_clf_baseline"
   ]
  },
  {
   "cell_type": "code",
   "execution_count": null,
   "id": "0cc9043e-9b56-4b33-b8eb-f469f58155e5",
   "metadata": {},
   "outputs": [],
   "source": [
    "# fit our model with our data (training)\n",
    "LR_clf_baseline.fit(X_train_ss, y_train_ss)"
   ]
  },
  {
   "cell_type": "code",
   "execution_count": null,
   "id": "a09b5865-ac06-4aa6-af60-fb83f07b3430",
   "metadata": {},
   "outputs": [],
   "source": [
    "# create predictions using predict() method\n",
    "y_pred_baseline_std_scaler = LR_clf_baseline.predict(X_test_ss)\n",
    "y_pred_baseline_std_scaler"
   ]
  },
  {
   "cell_type": "code",
   "execution_count": null,
   "id": "cea137bc-0b1d-4063-a1fd-4294871e0b4f",
   "metadata": {},
   "outputs": [],
   "source": [
    "# view the data\n",
    "pd.DataFrame({\"Prediction\": y_pred_baseline_std_scaler, \"Actual\": y_test_ss})"
   ]
  },
  {
   "cell_type": "code",
   "execution_count": null,
   "id": "a654cebb-a9c9-4734-b335-db47ad2d888f",
   "metadata": {},
   "outputs": [],
   "source": [
    "# calculate model accuracy\n",
    "balanced_accuracy_score(y_test_ss, y_pred_baseline_std_scaler)"
   ]
  },
  {
   "cell_type": "code",
   "execution_count": null,
   "id": "c85b20f5-49ea-4cb0-92a8-031992d90593",
   "metadata": {},
   "outputs": [],
   "source": [
    "# create a confusion matrix\n",
    "cm_ss = confusion_matrix(y_test_ss, y_pred_baseline_std_scaler)\n",
    "print(cm_ss)"
   ]
  },
  {
   "cell_type": "code",
   "execution_count": null,
   "id": "56cf5547-7f4a-4c02-a952-c63d8d4b9063",
   "metadata": {},
   "outputs": [],
   "source": [
    "# confusion matrix using ConfusionMatrixDisplay\n",
    "disp = ConfusionMatrixDisplay(confusion_matrix=cm_ss,display_labels= LR_clf_baseline.classes_)\n",
    "disp.plot()\n",
    "\n",
    "# save the image\n",
    "plt.savefig(\"./Images/Baseline_Std_Scaler_confusion_matrix.png\")\n",
    "plt.show()"
   ]
  },
  {
   "cell_type": "code",
   "execution_count": null,
   "id": "7f40efbd-cac6-425b-b881-1d3345e9a938",
   "metadata": {
    "tags": []
   },
   "outputs": [],
   "source": [
    "# view the imbalanced classification report\n",
    "# report = classification_report(y_test, y_pred, output_dict=True)\n",
    "baseline_report = classification_report_imbalanced(y_test_ss, y_pred_baseline_std_scaler)\n",
    "print(\"Baseline / standard scaled No changes in Sampling\")\n",
    "print(baseline_report)"
   ]
  },
  {
   "cell_type": "code",
   "execution_count": null,
   "id": "19d6ecfd-1680-4eb7-a7f5-65d75a7f6cfe",
   "metadata": {},
   "outputs": [],
   "source": [
    "# code (lines 3 and 6) to copy and use to save imbalanced classification report\n",
    "# this assumes the report was already preformed and saved as \"report\"\n",
    "baseline_classification_report_df = classification_report_to_df(baseline_report)\n",
    "\n",
    "# save df as a png using dataframe to image library (imported in dependencies)\n",
    "dfi.export(baseline_classification_report_df, './Images/baseline_classification_report_df.png')"
   ]
  },
  {
   "cell_type": "markdown",
   "id": "87724dc8-2c59-47cc-a86a-497693229889",
   "metadata": {
    "tags": []
   },
   "source": [
    "### Analysis:\n",
    "Use of StandardScaler increased the models's ability to identify (a few additional) high_risk loan as as high_risk"
   ]
  },
  {
   "cell_type": "markdown",
   "id": "d8d288e1-99d4-4039-bc25-7317d3c702ea",
   "metadata": {},
   "source": [
    "## Oversampling (after scaling with StandardScaler)\n",
    "\n",
    "In this section, you will compare two oversampling algorithms to determine which algorithm results in the best performance. You will oversample the data using the naive random oversampling algorithm and the SMOTE algorithm. For each algorithm, be sure to complete the folliowing steps:\n",
    "\n",
    "1. View the count of the target classes using `Counter` from the collections library. \n",
    "3. Use the resampled data to train a logistic regression model.\n",
    "3. Calculate the balanced accuracy score from sklearn.metrics.\n",
    "4. Print the confusion matrix from sklearn.metrics.\n",
    "5. Generate a classication report using the `imbalanced_classification_report` from imbalanced-learn.\n",
    "\n",
    "Note: Use a random state of 1 for each sampling algorithm to ensure consistency between tests"
   ]
  },
  {
   "cell_type": "markdown",
   "id": "0c750c74-27e7-4253-8058-ff4942f1ba3c",
   "metadata": {},
   "source": [
    "### RandomOverSampler"
   ]
  },
  {
   "cell_type": "code",
   "execution_count": null,
   "id": "70b4b11b-1a27-4ae1-a96a-795c0a0d1f7f",
   "metadata": {},
   "outputs": [],
   "source": [
    "# Resample the training data with the RandomOversampler\n",
    "ros = RandomOverSampler(random_state=1)\n",
    "X_resampled_ros, y_resampled_ros = ros.fit_resample(X_train_ss, y_train_ss)"
   ]
  },
  {
   "cell_type": "code",
   "execution_count": 38,
   "id": "06f7c341-bcf2-4bcd-823a-525fc5b5f316",
   "metadata": {},
   "outputs": [
    {
     "data": {
      "text/plain": [
       "Counter({'low_risk': 67488, 'high_risk': 67488})"
      ]
     },
     "execution_count": 38,
     "metadata": {},
     "output_type": "execute_result"
    }
   ],
   "source": [
    "# what is the \"balance\" or mix between loan_staus\n",
    "Counter(y_resampled_ros)"
   ]
  },
  {
   "cell_type": "markdown",
   "id": "60a514d5-1e49-41b6-ac24-a8f40b131456",
   "metadata": {},
   "source": [
    "#### Assess using LogisticRegression"
   ]
  },
  {
   "cell_type": "code",
   "execution_count": 39,
   "id": "98a9520f-fb94-4d77-a4a7-c150330ec57e",
   "metadata": {},
   "outputs": [],
   "source": [
    "# Train the Logistic Regression model using the resampled data\n",
    "# from sklearn.linear_model import LogisticRegression\n",
    "\n",
    "# model\n",
    "LR_clf_ros = LogisticRegression(solver='lbfgs', random_state=1, max_iter=1000)\n",
    "\n",
    "# fit\n",
    "LR_clf_ros.fit(X_resampled_ros, y_resampled_ros)\n",
    "\n",
    "# predict using the predict method\n",
    "y_pred_ros = LR_clf_ros.predict(X_test_ss)"
   ]
  },
  {
   "cell_type": "markdown",
   "id": "5c517edf-7f3b-46c3-8275-a8c4ba1f80ce",
   "metadata": {},
   "source": [
    "##### Balanced accuracy score"
   ]
  },
  {
   "cell_type": "code",
   "execution_count": 40,
   "id": "421c345a-7a1f-47c3-808b-37beccc5dbd5",
   "metadata": {},
   "outputs": [
    {
     "data": {
      "text/plain": [
       "0.8181508026564084"
      ]
     },
     "execution_count": 40,
     "metadata": {},
     "output_type": "execute_result"
    }
   ],
   "source": [
    "# Calculated the balanced accuracy score\n",
    "balanced_accuracy_score(y_test_ss, y_pred_ros)"
   ]
  },
  {
   "cell_type": "markdown",
   "id": "3c55113c-2900-4df4-b9da-638177f5dad3",
   "metadata": {},
   "source": [
    "##### Confusion Matrix"
   ]
  },
  {
   "cell_type": "code",
   "execution_count": 41,
   "id": "a9632690-43e1-47a2-9f50-fcf7c396124f",
   "metadata": {},
   "outputs": [
    {
     "name": "stdout",
     "output_type": "stream",
     "text": [
      "[[  101    28]\n",
      " [ 3297 19186]]\n"
     ]
    }
   ],
   "source": [
    "# Display the confusion matrix\n",
    "cm_ros = confusion_matrix(y_test_ss, y_pred_ros, labels=LR_clf_ros.classes_)\n",
    "print(cm_ros)"
   ]
  },
  {
   "cell_type": "markdown",
   "id": "48671880-4aed-46f7-ad37-565b64ce42e8",
   "metadata": {},
   "source": [
    "##### ConfusionMatrixDisplay"
   ]
  },
  {
   "cell_type": "code",
   "execution_count": 42,
   "id": "939a7562-fe88-4b8c-b8ce-8763ab8c5a02",
   "metadata": {},
   "outputs": [
    {
     "data": {
      "image/png": "[encoded data removed]",
      "text/plain": [
       "<Figure size 432x288 with 2 Axes>"
      ]
     },
     "metadata": {
      "needs_background": "light"
     },
     "output_type": "display_data"
    }
   ],
   "source": [
    "# confusion matrix using ConfusionMatrixDisplay\n",
    "disp_ros = ConfusionMatrixDisplay(confusion_matrix=cm_ros, display_labels= LR_clf_ros.classes_)\n",
    "disp_ros.plot()\n",
    "\n",
    "# save the image\n",
    "plt.savefig(\"./Images/RandomOverSampler_confusion_matrix.png\")\n",
    "plt.show()"
   ]
  },
  {
   "cell_type": "markdown",
   "id": "4001c2b1-2491-4953-880d-ac5b35b70f0d",
   "metadata": {
    "tags": []
   },
   "source": [
    "##### Imbalanced Classification Report"
   ]
  },
  {
   "cell_type": "code",
   "execution_count": 43,
   "id": "806dd64c-333c-4787-9479-0a100332accb",
   "metadata": {},
   "outputs": [
    {
     "name": "stdout",
     "output_type": "stream",
     "text": [
      "RandomOverSampler\n",
      "                   pre       rec       spe        f1       geo       iba       sup\n",
      "\n",
      "  high_risk       0.03      0.78      0.85      0.06      0.82      0.66       129\n",
      "   low_risk       1.00      0.85      0.78      0.92      0.82      0.67     22483\n",
      "\n",
      "avg / total       0.99      0.85      0.78      0.92      0.82      0.67     22612\n",
      "\n"
     ]
    }
   ],
   "source": [
    "# view the imballanced classification report\n",
    "# report = classification_report(y_test, y_pred, output_dict=True)\n",
    "RandomOverSampler_report = classification_report_imbalanced(y_test_ss, y_pred_ros)\n",
    "print(\"RandomOverSampler\")\n",
    "print(RandomOverSampler_report)"
   ]
  },
  {
   "cell_type": "code",
   "execution_count": 44,
   "id": "17ebd6d2-228c-4e93-903a-34745141c53b",
   "metadata": {},
   "outputs": [],
   "source": [
    "# code (lines 3 and 6) to copy and use to save imbalanced classification report\n",
    "# this assumes the report was already preformed and saved as \"example_report_name\"\n",
    "RandomOverSampler_classification_report_df = classification_report_to_df(RandomOverSampler_report)\n",
    "\n",
    "# save df as a png using dataframe to image library (imported in dependencies)\n",
    "dfi.export(RandomOverSampler_classification_report_df, './Images/RandomOverSampler_classification_report_df.png')"
   ]
  },
  {
   "cell_type": "markdown",
   "id": "581a7b03-142b-4ab3-9744-33d1bddfc004",
   "metadata": {},
   "source": [
    "### SMOTE Oversampling"
   ]
  },
  {
   "cell_type": "code",
   "execution_count": 45,
   "id": "ada8f1be-d906-4bdb-934f-651dc3df45d9",
   "metadata": {},
   "outputs": [],
   "source": [
    "# Resample the training data with SMOTE\n",
    "# Train the Logistic Regression model using the resampled data\n",
    "X_resampled_SMOTE, y_resampled_SMOTE = SMOTE(random_state=1, sampling_strategy='auto').fit_resample(X_train_ss, y_train_ss)"
   ]
  },
  {
   "cell_type": "code",
   "execution_count": 46,
   "id": "dfceb5cd-d4a7-4cc2-b7e9-acc8cf732d80",
   "metadata": {},
   "outputs": [
    {
     "data": {
      "text/plain": [
       "Counter({'low_risk': 67488, 'high_risk': 67488})"
      ]
     },
     "execution_count": 46,
     "metadata": {},
     "output_type": "execute_result"
    }
   ],
   "source": [
    "# check the balance of loan_status\n",
    "Counter(y_resampled_SMOTE)"
   ]
  },
  {
   "cell_type": "markdown",
   "id": "db110b49-1dad-404d-bbe5-8846bb84fbda",
   "metadata": {},
   "source": [
    "#### Assess using LogisticRegression"
   ]
  },
  {
   "cell_type": "code",
   "execution_count": 47,
   "id": "b027c1dd-2e15-43ce-a841-831452cfedd7",
   "metadata": {},
   "outputs": [],
   "source": [
    "# model\n",
    "LR_clf_SMOTE = LogisticRegression(solver='lbfgs', random_state=1, max_iter=1000)\n",
    "\n",
    "# train/fit\n",
    "LR_clf_SMOTE.fit(X_resampled_SMOTE, y_resampled_SMOTE)\n",
    "\n",
    "# predict\n",
    "y_pred_SMOTE = LR_clf_SMOTE.predict(X_test_ss)"
   ]
  },
  {
   "cell_type": "markdown",
   "id": "5cef29d3-d140-408e-a6ed-f5f6d8695670",
   "metadata": {},
   "source": [
    "##### Balanced accuracy score"
   ]
  },
  {
   "cell_type": "code",
   "execution_count": 48,
   "id": "3fa3d8e3-2f03-4b6b-a900-c18f6eee3bc9",
   "metadata": {},
   "outputs": [
    {
     "data": {
      "text/plain": [
       "0.799625522401594"
      ]
     },
     "execution_count": 48,
     "metadata": {},
     "output_type": "execute_result"
    }
   ],
   "source": [
    "# Calculated the balanced accuracy score\n",
    "balanced_accuracy_score(y_test_ss, y_pred_SMOTE)"
   ]
  },
  {
   "cell_type": "markdown",
   "id": "3ef1cb3a-6b69-48ea-9111-ec68c352b37a",
   "metadata": {},
   "source": [
    "##### Confusion Matrix"
   ]
  },
  {
   "cell_type": "code",
   "execution_count": 49,
   "id": "8ba6b29c-32df-43f3-92f1-9e75d00f8f8f",
   "metadata": {},
   "outputs": [
    {
     "name": "stdout",
     "output_type": "stream",
     "text": [
      "[[   94    35]\n",
      " [ 2910 19573]]\n"
     ]
    }
   ],
   "source": [
    "# Display the confusion matrix\n",
    "cm_SMOTE = confusion_matrix(y_test_ss, y_pred_SMOTE,  labels=LR_clf_SMOTE.classes_)\n",
    "print(cm_SMOTE)"
   ]
  },
  {
   "cell_type": "markdown",
   "id": "fc0a660d-beef-4c43-a5af-33e5cca7e81e",
   "metadata": {},
   "source": [
    "##### ConfusionMatrixDisplay"
   ]
  },
  {
   "cell_type": "code",
   "execution_count": 50,
   "id": "672b0522-b2db-4efb-bd6d-779e7d992ac5",
   "metadata": {},
   "outputs": [
    {
     "data": {
      "image/png": "[encoded data removed]",
      "text/plain": [
       "<Figure size 432x288 with 2 Axes>"
      ]
     },
     "metadata": {
      "needs_background": "light"
     },
     "output_type": "display_data"
    }
   ],
   "source": [
    "# confusion matrix using ConfusionMatrixDisplay\n",
    "disp = ConfusionMatrixDisplay(confusion_matrix=cm_SMOTE, display_labels= LR_clf_SMOTE.classes_)\n",
    "disp.plot()\n",
    "\n",
    "# save the image\n",
    "plt.savefig(\"./Images/SMOTE_confusion_matrix.png\")\n",
    "plt.show()"
   ]
  },
  {
   "cell_type": "markdown",
   "id": "94fc0349-584d-4484-bba0-95c99c974c98",
   "metadata": {},
   "source": [
    "##### Imbalanced Classification Report"
   ]
  },
  {
   "cell_type": "code",
   "execution_count": 51,
   "id": "f5ad6b55-9fcb-4d35-8954-10392df4c49c",
   "metadata": {},
   "outputs": [
    {
     "name": "stdout",
     "output_type": "stream",
     "text": [
      "SMOTE\n",
      "                   pre       rec       spe        f1       geo       iba       sup\n",
      "\n",
      "  high_risk       0.03      0.73      0.87      0.06      0.80      0.63       129\n",
      "   low_risk       1.00      0.87      0.73      0.93      0.80      0.64     22483\n",
      "\n",
      "avg / total       0.99      0.87      0.73      0.93      0.80      0.64     22612\n",
      "\n"
     ]
    }
   ],
   "source": [
    "# Print the imbalanced classification report\n",
    "SMOTE_report = classification_report_imbalanced(y_test_ss, y_pred_SMOTE)\n",
    "print(\"SMOTE\")\n",
    "print(classification_report_imbalanced(y_test_ss, y_pred_SMOTE))"
   ]
  },
  {
   "cell_type": "code",
   "execution_count": 52,
   "id": "6a2abc68-397d-4f38-b381-66d7489b60ca",
   "metadata": {},
   "outputs": [],
   "source": [
    "# code (lines 3 and 6) to copy and use to save imbalanced classification report\n",
    "# this assumes the report was already preformed and saved as \"example_report_name\"\n",
    "SMOTE_classification_report_df = classification_report_to_df(SMOTE_report)\n",
    "\n",
    "# save df as a png using dataframe to image library (imported in dependencies)\n",
    "dfi.export(SMOTE_classification_report_df, './Images/SMOTE_classification_report_df.png')"
   ]
  },
  {
   "cell_type": "markdown",
   "id": "ebe59cc6-932b-449c-a867-e59148765c4b",
   "metadata": {},
   "source": [
    "# Undersampling\n",
    "\n",
    "In this section, you will test an undersampling algorithms to determine which algorithm results in the best performance compared to the oversampling algorithms above. You will undersample the data using the Cluster Centroids algorithm and complete the folliowing steps:\n",
    "\n",
    "1. View the count of the target classes using `Counter` from the collections library. \n",
    "3. Use the resampled data to train a logistic regression model.\n",
    "3. Calculate the balanced accuracy score from sklearn.metrics.\n",
    "4. Print the confusion matrix from sklearn.metrics.\n",
    "5. Generate a classication report using the `imbalanced_classification_report` from imbalanced-learn.\n",
    "\n",
    "Note: Use a random state of 1 for each sampling algorithm to ensure consistency between tests"
   ]
  },
  {
   "cell_type": "markdown",
   "id": "ddc37de1-f0a7-47c7-b1c0-737e7155c77f",
   "metadata": {},
   "source": [
    "### ClusterCentroids resampler"
   ]
  },
  {
   "cell_type": "code",
   "execution_count": 53,
   "id": "5cdcb3b1-a653-4669-8d9e-a16e74b0d113",
   "metadata": {},
   "outputs": [],
   "source": [
    "# Resample the data using the ClusterCentroids resampler\n",
    "# Warning: This is a large dataset, and this step may take some time to complete\n",
    "cc = ClusterCentroids(random_state=1)\n",
    "X_resampled_cc, y_resampled_cc = cc.fit_resample(X_train_ss, y_train_ss)"
   ]
  },
  {
   "cell_type": "markdown",
   "id": "b1d1a1ab-666a-4d11-9448-6621aceb582f",
   "metadata": {},
   "source": [
    "#### Assesss using Logisticregression"
   ]
  },
  {
   "cell_type": "code",
   "execution_count": 54,
   "id": "e59398ef-e16e-4db3-9cf6-7d0366340ca0",
   "metadata": {},
   "outputs": [
    {
     "data": {
      "text/plain": [
       "LogisticRegression(max_iter=1000, random_state=1)"
      ]
     },
     "execution_count": 54,
     "metadata": {},
     "output_type": "execute_result"
    }
   ],
   "source": [
    "# Train the Logistic Regression model using the resampled data\n",
    "LR_clf_cc = LogisticRegression(solver='lbfgs', random_state=1, max_iter=1000)\n",
    "LR_clf_cc.fit(X_resampled_cc, y_resampled_cc)"
   ]
  },
  {
   "cell_type": "code",
   "execution_count": 55,
   "id": "43d8d87a-42db-4995-a6f8-b1b4384a4caf",
   "metadata": {},
   "outputs": [],
   "source": [
    "# predict\n",
    "y_pred_cc = LR_clf_cc.predict(X_test_ss)"
   ]
  },
  {
   "cell_type": "markdown",
   "id": "d0cbf44d-f779-40ab-91b0-15cda6ba6213",
   "metadata": {},
   "source": [
    "##### Balanced accuracy score"
   ]
  },
  {
   "cell_type": "code",
   "execution_count": 56,
   "id": "f8a52164-2c6f-4e41-a974-f89625f58758",
   "metadata": {},
   "outputs": [
    {
     "data": {
      "text/plain": [
       "0.7819139491095253"
      ]
     },
     "execution_count": 56,
     "metadata": {},
     "output_type": "execute_result"
    }
   ],
   "source": [
    "# Calculated the balanced accuracy score\n",
    "balanced_accuracy_score(y_test_ss, y_pred_cc)"
   ]
  },
  {
   "cell_type": "markdown",
   "id": "f5e9f233-6102-409b-98d5-7a84b0de0d54",
   "metadata": {},
   "source": [
    "##### Confusion Matrix"
   ]
  },
  {
   "cell_type": "code",
   "execution_count": 57,
   "id": "8e1da2d4-99bf-4cb0-a64c-174ff3462732",
   "metadata": {},
   "outputs": [
    {
     "name": "stdout",
     "output_type": "stream",
     "text": [
      "[[  103    26]\n",
      " [ 5275 17208]]\n"
     ]
    }
   ],
   "source": [
    "# Display the confusion matrix\n",
    "cm_cc = confusion_matrix(y_test_ss, y_pred_cc, labels=LR_clf_cc.classes_)\n",
    "print(cm_cc)"
   ]
  },
  {
   "cell_type": "markdown",
   "id": "63b93291-07ea-4a4b-a12f-edcb554f1d6f",
   "metadata": {},
   "source": [
    "##### ConfusionMatrixDisplay"
   ]
  },
  {
   "cell_type": "code",
   "execution_count": 58,
   "id": "a640c9a7-fc97-468d-8200-56e95d01978b",
   "metadata": {},
   "outputs": [
    {
     "data": {
      "image/png": "[encoded data removed]",
      "text/plain": [
       "<Figure size 432x288 with 2 Axes>"
      ]
     },
     "metadata": {
      "needs_background": "light"
     },
     "output_type": "display_data"
    }
   ],
   "source": [
    "# diplay the confusion matrix display\n",
    "disp = ConfusionMatrixDisplay(confusion_matrix=cm_cc,display_labels= LR_clf_cc.classes_)\n",
    "disp.plot()\n",
    "\n",
    "# save the image\n",
    "plt.savefig(\"./Images/ClusterCentroids_confusion_matrix.png\")\n",
    "plt.show()"
   ]
  },
  {
   "cell_type": "markdown",
   "id": "9cb7d048-5644-4af9-992e-1da9bf54c42f",
   "metadata": {},
   "source": [
    "##### Imbalanced Classification Report"
   ]
  },
  {
   "cell_type": "code",
   "execution_count": 59,
   "id": "5a65871b-955d-4749-8a92-ad8e4c1b8e5c",
   "metadata": {},
   "outputs": [
    {
     "name": "stdout",
     "output_type": "stream",
     "text": [
      "ClusterCentroids\n",
      "                   pre       rec       spe        f1       geo       iba       sup\n",
      "\n",
      "  high_risk       0.02      0.80      0.77      0.04      0.78      0.61       129\n",
      "   low_risk       1.00      0.77      0.80      0.87      0.78      0.61     22483\n",
      "\n",
      "avg / total       0.99      0.77      0.80      0.86      0.78      0.61     22612\n",
      "\n"
     ]
    }
   ],
   "source": [
    "# view the imbalanced classification report\n",
    "# report = classification_report(y_test, y_pred)\n",
    "ClusterCentroids_report = classification_report_imbalanced(y_test_ss, y_pred_cc)\n",
    "print(\"ClusterCentroids\")\n",
    "print(ClusterCentroids_report)"
   ]
  },
  {
   "cell_type": "code",
   "execution_count": 60,
   "id": "ba0f4dee-521e-4501-a166-1bd588f21d8b",
   "metadata": {},
   "outputs": [],
   "source": [
    "# code (lines 3 and 6) to copy and use to save imbalanced classification report\n",
    "# this assumes the report was already preformed and saved as \"example_report_name\"\n",
    "ClusterCentroids_classification_report_df = classification_report_to_df(ClusterCentroids_report)\n",
    "\n",
    "# save df as a png using dataframe to image library (imported in dependencies)\n",
    "dfi.export(ClusterCentroids_classification_report_df, './Images/ClusterCentroids_classification_report_df.png')"
   ]
  },
  {
   "cell_type": "markdown",
   "id": "dd92c0d1-672c-41ef-9c87-0a08497944bd",
   "metadata": {},
   "source": [
    "# Combination (Over and Under) Sampling\n",
    "\n",
    "In this section, you will test a combination over- and under-sampling algorithm to determine if the algorithm results in the best performance compared to the other sampling algorithms above. You will resample the data using the SMOTEENN algorithm and complete the folliowing steps:\n",
    "\n",
    "1. View the count of the target classes using `Counter` from the collections library. \n",
    "3. Use the resampled data to train a logistic regression model.\n",
    "3. Calculate the balanced accuracy score from sklearn.metrics.\n",
    "4. Print the confusion matrix from sklearn.metrics.\n",
    "5. Generate a classication report using the `imbalanced_classification_report` from imbalanced-learn.\n",
    "\n",
    "Note: Use a random state of 1 for each sampling algorithm to ensure consistency between tests"
   ]
  },
  {
   "cell_type": "markdown",
   "id": "90aaafa1-c395-4fce-b1db-928faddfdbc7",
   "metadata": {},
   "source": [
    "### SMOTEENN resampler"
   ]
  },
  {
   "cell_type": "code",
   "execution_count": 61,
   "id": "06c7bf69-a475-48dc-8cf9-0a53e98af018",
   "metadata": {},
   "outputs": [
    {
     "data": {
      "text/plain": [
       "Counter({'high_risk': 67488, 'low_risk': 63328})"
      ]
     },
     "execution_count": 61,
     "metadata": {},
     "output_type": "execute_result"
    }
   ],
   "source": [
    "# Resample the training data with SMOTEENN\n",
    "# Warning: This is a large dataset, and this step may take some time to complete\n",
    "\n",
    "# model\n",
    "smote_enn = SMOTEENN(random_state=1, sampling_strategy='auto')\n",
    "\n",
    "# fit the data to the smoteen model\n",
    "X_resampled_SMOTEENN, y_resampled_SMOTEENN = smote_enn.fit_resample(X_train_ss, y_train_ss)\n",
    "Counter(y_resampled_SMOTEENN)\n"
   ]
  },
  {
   "cell_type": "markdown",
   "id": "d8510bc3-295a-4ac3-b000-364c16ce8a2c",
   "metadata": {},
   "source": [
    "#### Assesss using Logisticregression"
   ]
  },
  {
   "cell_type": "code",
   "execution_count": 62,
   "id": "07fdf3ee-1ed5-4a80-9dff-2d6bdf15ed04",
   "metadata": {},
   "outputs": [],
   "source": [
    "# Train the Logistic Regression model using the resampled (smoteenn) data\n",
    "# model\n",
    "LR_clf_SMOTEENN = LogisticRegression(solver='lbfgs', random_state=1, max_iter=1000)\n",
    "\n",
    "# fit\n",
    "LR_clf_SMOTEENN.fit(X_resampled_SMOTEENN, y_resampled_SMOTEENN)\n",
    "\n",
    "# predict\n",
    "y_pred_SMOTEENN = LR_clf_SMOTEENN.predict(X_test_ss)"
   ]
  },
  {
   "cell_type": "markdown",
   "id": "62d96060-5dd5-4918-ad38-56c07c5de25c",
   "metadata": {},
   "source": [
    "##### Balacned accuracy score"
   ]
  },
  {
   "cell_type": "code",
   "execution_count": 63,
   "id": "052aa4ad-e067-41b3-b833-c064d381079e",
   "metadata": {},
   "outputs": [
    {
     "data": {
      "text/plain": [
       "0.8028406992776971"
      ]
     },
     "execution_count": 63,
     "metadata": {},
     "output_type": "execute_result"
    }
   ],
   "source": [
    "# Calculated the balanced accuracy score\n",
    "balanced_accuracy_score(y_test_ss, y_pred_SMOTEENN)"
   ]
  },
  {
   "cell_type": "markdown",
   "id": "e6faaade-e522-495f-a249-a16554ba875c",
   "metadata": {},
   "source": [
    "##### Confusion Matrix"
   ]
  },
  {
   "cell_type": "code",
   "execution_count": 64,
   "id": "bb8165d9-c718-42d1-b19c-de9ee7582c68",
   "metadata": {},
   "outputs": [
    {
     "name": "stdout",
     "output_type": "stream",
     "text": [
      "[[   96    33]\n",
      " [ 3114 19369]]\n"
     ]
    }
   ],
   "source": [
    "# Display the confusion matrix\n",
    "cm_SMOTEENN = confusion_matrix(y_test_ss, y_pred_SMOTEENN)\n",
    "print(cm_SMOTEENN)"
   ]
  },
  {
   "cell_type": "markdown",
   "id": "7df0b4e9-ca09-4399-9262-e7ffc485a895",
   "metadata": {},
   "source": [
    "##### ConfusionMatrixDisplay"
   ]
  },
  {
   "cell_type": "code",
   "execution_count": 65,
   "id": "76ba946a-9f9a-4547-a5e9-38a476593634",
   "metadata": {},
   "outputs": [
    {
     "data": {
      "image/png": "[encoded data removed]",
      "text/plain": [
       "<Figure size 432x288 with 2 Axes>"
      ]
     },
     "metadata": {
      "needs_background": "light"
     },
     "output_type": "display_data"
    }
   ],
   "source": [
    "# diplay the confusion matrix display\n",
    "disp = ConfusionMatrixDisplay(confusion_matrix=cm_SMOTEENN,display_labels= LR_clf_SMOTEENN.classes_)\n",
    "disp.plot()\n",
    "\n",
    "# save the image\n",
    "plt.savefig(\"./Images/SMOTEENN_confusion_matrix.png\")\n",
    "plt.show()"
   ]
  },
  {
   "cell_type": "markdown",
   "id": "76f3bfbe-68b8-4974-b42c-92c2f60da998",
   "metadata": {},
   "source": [
    "##### Imbalanced Classification Report"
   ]
  },
  {
   "cell_type": "code",
   "execution_count": 66,
   "id": "ddde1d46-99d3-4aa1-8871-09d61cf131eb",
   "metadata": {},
   "outputs": [
    {
     "name": "stdout",
     "output_type": "stream",
     "text": [
      "SMOTEENN\n",
      "                   pre       rec       spe        f1       geo       iba       sup\n",
      "\n",
      "  high_risk       0.02      0.80      0.77      0.04      0.78      0.61       129\n",
      "   low_risk       1.00      0.77      0.80      0.87      0.78      0.61     22483\n",
      "\n",
      "avg / total       0.99      0.77      0.80      0.86      0.78      0.61     22612\n",
      "\n"
     ]
    }
   ],
   "source": [
    "# Print the imbalanced classification report\n",
    "SMOTEENN_report = classification_report_imbalanced(y_test_ss, y_pred_cc)\n",
    "print(\"SMOTEENN\")\n",
    "print(SMOTEENN_report)"
   ]
  },
  {
   "cell_type": "code",
   "execution_count": 67,
   "id": "012d6a1b-af5e-4849-8ca8-63ce2575a677",
   "metadata": {},
   "outputs": [],
   "source": [
    "# code (lines 3 and 6) to copy and use to save imbalanced classification report\n",
    "# this assumes the report was already preformed and saved as \"example_report_name\"\n",
    "SMOTEENN_classification_report_df = classification_report_to_df(SMOTEENN_report)\n",
    "\n",
    "# save df as a png using dataframe to image library (imported in dependencies)\n",
    "dfi.export(SMOTEENN_classification_report_df, './Images/SMOTEENN_classification_report_df.png')"
   ]
  },
  {
   "cell_type": "markdown",
   "id": "b8db5ce9-ac35-46e3-9cb8-ab656291e491",
   "metadata": {},
   "source": [
    "## Resampling Analysis"
   ]
  },
  {
   "cell_type": "code",
   "execution_count": null,
   "id": "9a0e4be1-1b80-44a2-a5cd-abf3d504e450",
   "metadata": {},
   "outputs": [],
   "source": []
  }
 ],
 "metadata": {
  "kernelspec": {
   "display_name": "mlenv",
   "language": "python",
   "name": "mlenv"
  },
  "language_info": {
   "codemirror_mode": {
    "name": "ipython",
    "version": 3
   },
   "file_extension": ".py",
   "mimetype": "text/x-python",
   "name": "python",
   "nbconvert_exporter": "python",
   "pygments_lexer": "ipython3",
   "version": "3.7.10"
  },
  "toc-autonumbering": false,
  "toc-showcode": false,
  "toc-showmarkdowntxt": true,
  "toc-showtags": false,
  "widgets": {
   "application/vnd.jupyter.widget-state+json": {
    "state": {},
    "version_major": 2,
    "version_minor": 0
   }
  }
 },
 "nbformat": 4,
 "nbformat_minor": 5
}
